{
  "cells": [
    {
      "cell_type": "markdown",
      "metadata": {
        "id": "view-in-github",
        "colab_type": "text"
      },
      "source": [
        "<a href=\"https://colab.research.google.com/github/Wizcy1121/Predictive-Analytics--Projects/blob/main/customer_perchase.ipynb\" target=\"_parent\"><img src=\"https://colab.research.google.com/assets/colab-badge.svg\" alt=\"Open In Colab\"/></a>"
      ]
    },
    {
      "cell_type": "markdown",
      "source": [
        "### Project Overview\n",
        "The objective is to predict the amount spent by the customer in a store in response to a mail containing campaigns catalog."
      ],
      "metadata": {
        "id": "GZ8VeAg-4Azi"
      }
    },
    {
      "cell_type": "code",
      "execution_count": 4,
      "metadata": {
        "id": "JQqoqh29LLfP"
      },
      "outputs": [],
      "source": [
        "import pandas as pd\n",
        "import numpy as np\n",
        "import matplotlib.pyplot as plt\n",
        "from matplotlib.colors import ListedColormap\n",
        "from sklearn import neighbors, datasets, linear_model,preprocessing\n",
        "from sklearn.linear_model import LinearRegression, ElasticNet\n",
        "from sklearn.preprocessing import MinMaxScaler\n",
        "from sklearn.metrics import accuracy_score, mean_absolute_error, \\\n",
        "mean_squared_error, r2_score, make_scorer\n",
        "from sklearn.metrics import confusion_matrix, classification_report\n",
        "from sklearn.metrics import roc_curve, auc\n",
        "from sklearn.model_selection import train_test_split, cross_val_score, \\\n",
        "GridSearchCV , KFold, cross_validate, RandomizedSearchCV\n",
        "from sklearn.tree import DecisionTreeRegressor\n",
        "from sklearn.ensemble import GradientBoostingRegressor, BaggingRegressor, \\\n",
        "RandomForestRegressor, AdaBoostRegressor\n",
        "from sklearn.neighbors import KNeighborsRegressor\n",
        "from sklearn.svm import SVR\n",
        "from keras.models import Sequential\n",
        "from keras.layers import Dense\n",
        "from keras.wrappers.scikit_learn import KerasRegressor\n",
        "from lightgbm import  LGBMRegressor\n",
        "from scipy.stats import reciprocal\n",
        "import warnings\n",
        "warnings.filterwarnings('ignore')"
      ]
    },
    {
      "cell_type": "code",
      "execution_count": 1,
      "metadata": {
        "colab": {
          "base_uri": "https://localhost:8080/"
        },
        "id": "7xYySGDbK68x",
        "outputId": "fd3ba120-c7ee-4938-94ab-22b55b4d7ee1"
      },
      "outputs": [
        {
          "output_type": "stream",
          "name": "stdout",
          "text": [
            "Mounted at /content/drive\n"
          ]
        }
      ],
      "source": [
        "from google.colab import drive\n",
        "drive.mount('/content/drive')"
      ]
    },
    {
      "cell_type": "code",
      "execution_count": 5,
      "metadata": {
        "id": "sko8WvDjK8O1"
      },
      "outputs": [],
      "source": [
        "df= pd.read_excel(\"/content/drive/MyDrive/MSBA 6421/HW/purchase.xlsx\", index_col=0)"
      ]
    },
    {
      "cell_type": "code",
      "execution_count": 6,
      "metadata": {
        "colab": {
          "base_uri": "https://localhost:8080/",
          "height": 345
        },
        "id": "mZ3W0alvLIbp",
        "outputId": "e0715a1f-874e-4aa8-f722-c5783ff26f11"
      },
      "outputs": [
        {
          "output_type": "execute_result",
          "data": {
            "text/plain": [
              "                 US  source_a  source_c  source_b  source_d  source_e  \\\n",
              "sequence_number                                                         \n",
              "1                 1         0         0         1         0         0   \n",
              "2                 1         0         0         0         0         1   \n",
              "3                 1         0         0         0         0         0   \n",
              "4                 1         0         1         0         0         0   \n",
              "5                 1         0         1         0         0         0   \n",
              "\n",
              "                 source_m  source_o  source_h  source_r  ...  source_x  \\\n",
              "sequence_number                                          ...             \n",
              "1                       0         0         0         0  ...         0   \n",
              "2                       0         0         0         0  ...         0   \n",
              "3                       0         0         0         0  ...         0   \n",
              "4                       0         0         0         0  ...         0   \n",
              "5                       0         0         0         0  ...         0   \n",
              "\n",
              "                 source_w  Freq  last_update_days_ago  1st_update_days_ago  \\\n",
              "sequence_number                                                              \n",
              "1                       0     2                  3662                 3662   \n",
              "2                       0     0                  2900                 2900   \n",
              "3                       0     2                  3883                 3914   \n",
              "4                       0     1                   829                  829   \n",
              "5                       0     1                   869                  869   \n",
              "\n",
              "                 Web order  Gender=male  Address_is_res  Purchase  Spending  \n",
              "sequence_number                                                              \n",
              "1                        1            0               1         1    127.87  \n",
              "2                        1            1               0         0      0.00  \n",
              "3                        0            0               0         1    127.48  \n",
              "4                        0            1               0         0      0.00  \n",
              "5                        0            0               0         0      0.00  \n",
              "\n",
              "[5 rows x 24 columns]"
            ],
            "text/html": [
              "\n",
              "  <div id=\"df-79cc58a3-1b42-438b-837c-501c3f1c90dc\">\n",
              "    <div class=\"colab-df-container\">\n",
              "      <div>\n",
              "<style scoped>\n",
              "    .dataframe tbody tr th:only-of-type {\n",
              "        vertical-align: middle;\n",
              "    }\n",
              "\n",
              "    .dataframe tbody tr th {\n",
              "        vertical-align: top;\n",
              "    }\n",
              "\n",
              "    .dataframe thead th {\n",
              "        text-align: right;\n",
              "    }\n",
              "</style>\n",
              "<table border=\"1\" class=\"dataframe\">\n",
              "  <thead>\n",
              "    <tr style=\"text-align: right;\">\n",
              "      <th></th>\n",
              "      <th>US</th>\n",
              "      <th>source_a</th>\n",
              "      <th>source_c</th>\n",
              "      <th>source_b</th>\n",
              "      <th>source_d</th>\n",
              "      <th>source_e</th>\n",
              "      <th>source_m</th>\n",
              "      <th>source_o</th>\n",
              "      <th>source_h</th>\n",
              "      <th>source_r</th>\n",
              "      <th>...</th>\n",
              "      <th>source_x</th>\n",
              "      <th>source_w</th>\n",
              "      <th>Freq</th>\n",
              "      <th>last_update_days_ago</th>\n",
              "      <th>1st_update_days_ago</th>\n",
              "      <th>Web order</th>\n",
              "      <th>Gender=male</th>\n",
              "      <th>Address_is_res</th>\n",
              "      <th>Purchase</th>\n",
              "      <th>Spending</th>\n",
              "    </tr>\n",
              "    <tr>\n",
              "      <th>sequence_number</th>\n",
              "      <th></th>\n",
              "      <th></th>\n",
              "      <th></th>\n",
              "      <th></th>\n",
              "      <th></th>\n",
              "      <th></th>\n",
              "      <th></th>\n",
              "      <th></th>\n",
              "      <th></th>\n",
              "      <th></th>\n",
              "      <th></th>\n",
              "      <th></th>\n",
              "      <th></th>\n",
              "      <th></th>\n",
              "      <th></th>\n",
              "      <th></th>\n",
              "      <th></th>\n",
              "      <th></th>\n",
              "      <th></th>\n",
              "      <th></th>\n",
              "      <th></th>\n",
              "    </tr>\n",
              "  </thead>\n",
              "  <tbody>\n",
              "    <tr>\n",
              "      <th>1</th>\n",
              "      <td>1</td>\n",
              "      <td>0</td>\n",
              "      <td>0</td>\n",
              "      <td>1</td>\n",
              "      <td>0</td>\n",
              "      <td>0</td>\n",
              "      <td>0</td>\n",
              "      <td>0</td>\n",
              "      <td>0</td>\n",
              "      <td>0</td>\n",
              "      <td>...</td>\n",
              "      <td>0</td>\n",
              "      <td>0</td>\n",
              "      <td>2</td>\n",
              "      <td>3662</td>\n",
              "      <td>3662</td>\n",
              "      <td>1</td>\n",
              "      <td>0</td>\n",
              "      <td>1</td>\n",
              "      <td>1</td>\n",
              "      <td>127.87</td>\n",
              "    </tr>\n",
              "    <tr>\n",
              "      <th>2</th>\n",
              "      <td>1</td>\n",
              "      <td>0</td>\n",
              "      <td>0</td>\n",
              "      <td>0</td>\n",
              "      <td>0</td>\n",
              "      <td>1</td>\n",
              "      <td>0</td>\n",
              "      <td>0</td>\n",
              "      <td>0</td>\n",
              "      <td>0</td>\n",
              "      <td>...</td>\n",
              "      <td>0</td>\n",
              "      <td>0</td>\n",
              "      <td>0</td>\n",
              "      <td>2900</td>\n",
              "      <td>2900</td>\n",
              "      <td>1</td>\n",
              "      <td>1</td>\n",
              "      <td>0</td>\n",
              "      <td>0</td>\n",
              "      <td>0.00</td>\n",
              "    </tr>\n",
              "    <tr>\n",
              "      <th>3</th>\n",
              "      <td>1</td>\n",
              "      <td>0</td>\n",
              "      <td>0</td>\n",
              "      <td>0</td>\n",
              "      <td>0</td>\n",
              "      <td>0</td>\n",
              "      <td>0</td>\n",
              "      <td>0</td>\n",
              "      <td>0</td>\n",
              "      <td>0</td>\n",
              "      <td>...</td>\n",
              "      <td>0</td>\n",
              "      <td>0</td>\n",
              "      <td>2</td>\n",
              "      <td>3883</td>\n",
              "      <td>3914</td>\n",
              "      <td>0</td>\n",
              "      <td>0</td>\n",
              "      <td>0</td>\n",
              "      <td>1</td>\n",
              "      <td>127.48</td>\n",
              "    </tr>\n",
              "    <tr>\n",
              "      <th>4</th>\n",
              "      <td>1</td>\n",
              "      <td>0</td>\n",
              "      <td>1</td>\n",
              "      <td>0</td>\n",
              "      <td>0</td>\n",
              "      <td>0</td>\n",
              "      <td>0</td>\n",
              "      <td>0</td>\n",
              "      <td>0</td>\n",
              "      <td>0</td>\n",
              "      <td>...</td>\n",
              "      <td>0</td>\n",
              "      <td>0</td>\n",
              "      <td>1</td>\n",
              "      <td>829</td>\n",
              "      <td>829</td>\n",
              "      <td>0</td>\n",
              "      <td>1</td>\n",
              "      <td>0</td>\n",
              "      <td>0</td>\n",
              "      <td>0.00</td>\n",
              "    </tr>\n",
              "    <tr>\n",
              "      <th>5</th>\n",
              "      <td>1</td>\n",
              "      <td>0</td>\n",
              "      <td>1</td>\n",
              "      <td>0</td>\n",
              "      <td>0</td>\n",
              "      <td>0</td>\n",
              "      <td>0</td>\n",
              "      <td>0</td>\n",
              "      <td>0</td>\n",
              "      <td>0</td>\n",
              "      <td>...</td>\n",
              "      <td>0</td>\n",
              "      <td>0</td>\n",
              "      <td>1</td>\n",
              "      <td>869</td>\n",
              "      <td>869</td>\n",
              "      <td>0</td>\n",
              "      <td>0</td>\n",
              "      <td>0</td>\n",
              "      <td>0</td>\n",
              "      <td>0.00</td>\n",
              "    </tr>\n",
              "  </tbody>\n",
              "</table>\n",
              "<p>5 rows × 24 columns</p>\n",
              "</div>\n",
              "      <button class=\"colab-df-convert\" onclick=\"convertToInteractive('df-79cc58a3-1b42-438b-837c-501c3f1c90dc')\"\n",
              "              title=\"Convert this dataframe to an interactive table.\"\n",
              "              style=\"display:none;\">\n",
              "        \n",
              "  <svg xmlns=\"http://www.w3.org/2000/svg\" height=\"24px\"viewBox=\"0 0 24 24\"\n",
              "       width=\"24px\">\n",
              "    <path d=\"M0 0h24v24H0V0z\" fill=\"none\"/>\n",
              "    <path d=\"M18.56 5.44l.94 2.06.94-2.06 2.06-.94-2.06-.94-.94-2.06-.94 2.06-2.06.94zm-11 1L8.5 8.5l.94-2.06 2.06-.94-2.06-.94L8.5 2.5l-.94 2.06-2.06.94zm10 10l.94 2.06.94-2.06 2.06-.94-2.06-.94-.94-2.06-.94 2.06-2.06.94z\"/><path d=\"M17.41 7.96l-1.37-1.37c-.4-.4-.92-.59-1.43-.59-.52 0-1.04.2-1.43.59L10.3 9.45l-7.72 7.72c-.78.78-.78 2.05 0 2.83L4 21.41c.39.39.9.59 1.41.59.51 0 1.02-.2 1.41-.59l7.78-7.78 2.81-2.81c.8-.78.8-2.07 0-2.86zM5.41 20L4 18.59l7.72-7.72 1.47 1.35L5.41 20z\"/>\n",
              "  </svg>\n",
              "      </button>\n",
              "      \n",
              "  <style>\n",
              "    .colab-df-container {\n",
              "      display:flex;\n",
              "      flex-wrap:wrap;\n",
              "      gap: 12px;\n",
              "    }\n",
              "\n",
              "    .colab-df-convert {\n",
              "      background-color: #E8F0FE;\n",
              "      border: none;\n",
              "      border-radius: 50%;\n",
              "      cursor: pointer;\n",
              "      display: none;\n",
              "      fill: #1967D2;\n",
              "      height: 32px;\n",
              "      padding: 0 0 0 0;\n",
              "      width: 32px;\n",
              "    }\n",
              "\n",
              "    .colab-df-convert:hover {\n",
              "      background-color: #E2EBFA;\n",
              "      box-shadow: 0px 1px 2px rgba(60, 64, 67, 0.3), 0px 1px 3px 1px rgba(60, 64, 67, 0.15);\n",
              "      fill: #174EA6;\n",
              "    }\n",
              "\n",
              "    [theme=dark] .colab-df-convert {\n",
              "      background-color: #3B4455;\n",
              "      fill: #D2E3FC;\n",
              "    }\n",
              "\n",
              "    [theme=dark] .colab-df-convert:hover {\n",
              "      background-color: #434B5C;\n",
              "      box-shadow: 0px 1px 3px 1px rgba(0, 0, 0, 0.15);\n",
              "      filter: drop-shadow(0px 1px 2px rgba(0, 0, 0, 0.3));\n",
              "      fill: #FFFFFF;\n",
              "    }\n",
              "  </style>\n",
              "\n",
              "      <script>\n",
              "        const buttonEl =\n",
              "          document.querySelector('#df-79cc58a3-1b42-438b-837c-501c3f1c90dc button.colab-df-convert');\n",
              "        buttonEl.style.display =\n",
              "          google.colab.kernel.accessAllowed ? 'block' : 'none';\n",
              "\n",
              "        async function convertToInteractive(key) {\n",
              "          const element = document.querySelector('#df-79cc58a3-1b42-438b-837c-501c3f1c90dc');\n",
              "          const dataTable =\n",
              "            await google.colab.kernel.invokeFunction('convertToInteractive',\n",
              "                                                     [key], {});\n",
              "          if (!dataTable) return;\n",
              "\n",
              "          const docLinkHtml = 'Like what you see? Visit the ' +\n",
              "            '<a target=\"_blank\" href=https://colab.research.google.com/notebooks/data_table.ipynb>data table notebook</a>'\n",
              "            + ' to learn more about interactive tables.';\n",
              "          element.innerHTML = '';\n",
              "          dataTable['output_type'] = 'display_data';\n",
              "          await google.colab.output.renderOutput(dataTable, element);\n",
              "          const docLink = document.createElement('div');\n",
              "          docLink.innerHTML = docLinkHtml;\n",
              "          element.appendChild(docLink);\n",
              "        }\n",
              "      </script>\n",
              "    </div>\n",
              "  </div>\n",
              "  "
            ]
          },
          "metadata": {},
          "execution_count": 6
        }
      ],
      "source": [
        "df.head()"
      ]
    },
    {
      "cell_type": "code",
      "execution_count": 7,
      "metadata": {
        "id": "SnZ01U9jLZKh"
      },
      "outputs": [],
      "source": [
        "# Creating the features dataset\n",
        "X = df.iloc[:,:-1]\n",
        "\n",
        "# Creating the target dataset\n",
        "y = df.iloc[:, -1]\n",
        "\n",
        "# Creating the train and test dataset\n",
        "X_train, X_test, y_train, y_test = train_test_split(X, y, test_size=0.2, random_state = 42)\n"
      ]
    },
    {
      "cell_type": "markdown",
      "metadata": {
        "id": "Qkau0sojLaHf"
      },
      "source": [
        "The objective is to predict the amount spent by the customer in a store in response to a mail containing campaigns catalog."
      ]
    },
    {
      "cell_type": "markdown",
      "source": [
        "### Data transformation:\n",
        "The whole dataset is split into training and test data with a proportion of 0.8 and 0.2 respectively. For models like K-NN, SVM, it is necessary for the features to be normalized. This is to make sure that all the attributes are present on the same scale as opposed to different scales for different attributes and making sure that no attributes are dominated by other attributes while the model is being trained. Thus the features are normalized based on Min-Max Scaling and applied to all the models for the ease of simplicity and also because it does not have any negative impact."
      ],
      "metadata": {
        "id": "yBBSAzecQN2x"
      }
    },
    {
      "cell_type": "code",
      "execution_count": 8,
      "metadata": {
        "id": "z6Uwf3u1Mc9M"
      },
      "outputs": [],
      "source": [
        "# Normalization\n",
        "min_max_scaler = preprocessing.MinMaxScaler()\n",
        "\n",
        "X_train_trans = min_max_scaler.fit_transform(X_train)\n",
        "X_train_trans = pd.DataFrame(X_train_trans)\n",
        "X_train_trans.columns = X_train.columns[0:23]\n",
        "\n",
        "X_test_trans = min_max_scaler.fit_transform(X_test)\n",
        "X_test_trans = pd.DataFrame(X_test_trans)\n",
        "X_test_trans.columns = X_test.columns[0:23]"
      ]
    },
    {
      "cell_type": "markdown",
      "source": [
        "### Feature Selection:\n",
        "ForFor this dataset, we intend to build the following models to predict the spending of a customer based on the given attributes. However, we presume that most of the variance in the target variable would be explained by just some of the independent variables. Hence, we perform feature selection on the independent variables to select the top 10 variables in the order of importance to fit the model. We then compare the accuracy of the same model with and without feature selection in order to check how much accuracy we are losing. We used Linear Regression to perform this comparison of accuracy. From the results we got, it is evident that the difference in the accuracy is so minimal between the model with and without feature selection. Since using lesser number of features reduces the complexity of model as well as computation, we used the top 10 important variables to train all the models."
      ],
      "metadata": {
        "id": "Wz6hOaRQQaA-"
      }
    },
    {
      "cell_type": "code",
      "execution_count": 9,
      "metadata": {
        "id": "p49ukvtmOrIw"
      },
      "outputs": [],
      "source": [
        "#Feature selection using Random Forest\n",
        "feat = RandomForestRegressor(n_estimators=100, random_state=42)\n",
        "feat.fit(X_train_trans, y_train)\n",
        "\n",
        "feature_importance = pd.DataFrame(np.round(feat.feature_importances_,3),\n",
        "                                   index = X_train.columns,\n",
        "                                columns=['importance']).sort_values('importance',\n",
        "                                ascending = False)"
      ]
    },
    {
      "cell_type": "code",
      "execution_count": 10,
      "metadata": {
        "id": "alDCGAf1O-JN"
      },
      "outputs": [],
      "source": [
        "#Features are ranked based on how they reduce impurity and create pure nodes.\n",
        "#Based on the ranking, we decide to pick up the top 10 features\n",
        "#Based on the values, we take the top 10 features and compare how performance differs.\n",
        "\n",
        "top_features = feature_importance.nlargest(10,\"importance\")\n",
        "\n",
        "#Normalizing the variables\n",
        "X_train_trans_fs = min_max_scaler.fit_transform(X_train.filter(items = top_features.index))\n",
        "\n",
        "X_test_trans_fs = min_max_scaler.transform(X_test.filter(items = top_features.index))\n",
        "\n",
        "X_train_fs = pd.DataFrame(X_train_trans_fs)\n",
        "X_test_fs = pd.DataFrame(X_test_trans_fs)"
      ]
    },
    {
      "cell_type": "code",
      "execution_count": 11,
      "metadata": {
        "colab": {
          "base_uri": "https://localhost:8080/",
          "height": 419
        },
        "id": "u_QTV1OOYpIm",
        "outputId": "930cc9f5-0a50-4689-87f6-d80e723c4420"
      },
      "outputs": [
        {
          "output_type": "execute_result",
          "data": {
            "text/plain": [
              "             0    1         2         3    4    5    6    7    8    9\n",
              "0     0.066667  1.0  0.573919  0.573919  0.0  0.0  1.0  0.0  0.0  0.0\n",
              "1     0.066667  1.0  0.069023  0.069023  0.0  0.0  1.0  1.0  1.0  0.0\n",
              "2     0.066667  1.0  0.577024  0.577024  0.0  0.0  1.0  1.0  1.0  1.0\n",
              "3     0.066667  1.0  0.399331  0.399331  0.0  1.0  1.0  1.0  0.0  0.0\n",
              "4     0.066667  0.0  0.696919  0.696919  1.0  0.0  1.0  0.0  1.0  0.0\n",
              "...        ...  ...       ...       ...  ...  ...  ...  ...  ...  ...\n",
              "1595  0.066667  0.0  0.681872  0.681872  0.0  0.0  1.0  0.0  0.0  0.0\n",
              "1596  0.000000  0.0  0.039647  0.039647  1.0  0.0  1.0  0.0  0.0  0.0\n",
              "1597  0.066667  0.0  0.300931  0.300931  1.0  0.0  1.0  1.0  0.0  0.0\n",
              "1598  0.000000  0.0  0.669214  0.669214  0.0  0.0  0.0  0.0  0.0  0.0\n",
              "1599  0.066667  0.0  0.334607  0.334607  0.0  0.0  0.0  1.0  0.0  0.0\n",
              "\n",
              "[1600 rows x 10 columns]"
            ],
            "text/html": [
              "\n",
              "  <div id=\"df-c9666797-1482-4e63-a7f8-f4df8837d022\">\n",
              "    <div class=\"colab-df-container\">\n",
              "      <div>\n",
              "<style scoped>\n",
              "    .dataframe tbody tr th:only-of-type {\n",
              "        vertical-align: middle;\n",
              "    }\n",
              "\n",
              "    .dataframe tbody tr th {\n",
              "        vertical-align: top;\n",
              "    }\n",
              "\n",
              "    .dataframe thead th {\n",
              "        text-align: right;\n",
              "    }\n",
              "</style>\n",
              "<table border=\"1\" class=\"dataframe\">\n",
              "  <thead>\n",
              "    <tr style=\"text-align: right;\">\n",
              "      <th></th>\n",
              "      <th>0</th>\n",
              "      <th>1</th>\n",
              "      <th>2</th>\n",
              "      <th>3</th>\n",
              "      <th>4</th>\n",
              "      <th>5</th>\n",
              "      <th>6</th>\n",
              "      <th>7</th>\n",
              "      <th>8</th>\n",
              "      <th>9</th>\n",
              "    </tr>\n",
              "  </thead>\n",
              "  <tbody>\n",
              "    <tr>\n",
              "      <th>0</th>\n",
              "      <td>0.066667</td>\n",
              "      <td>1.0</td>\n",
              "      <td>0.573919</td>\n",
              "      <td>0.573919</td>\n",
              "      <td>0.0</td>\n",
              "      <td>0.0</td>\n",
              "      <td>1.0</td>\n",
              "      <td>0.0</td>\n",
              "      <td>0.0</td>\n",
              "      <td>0.0</td>\n",
              "    </tr>\n",
              "    <tr>\n",
              "      <th>1</th>\n",
              "      <td>0.066667</td>\n",
              "      <td>1.0</td>\n",
              "      <td>0.069023</td>\n",
              "      <td>0.069023</td>\n",
              "      <td>0.0</td>\n",
              "      <td>0.0</td>\n",
              "      <td>1.0</td>\n",
              "      <td>1.0</td>\n",
              "      <td>1.0</td>\n",
              "      <td>0.0</td>\n",
              "    </tr>\n",
              "    <tr>\n",
              "      <th>2</th>\n",
              "      <td>0.066667</td>\n",
              "      <td>1.0</td>\n",
              "      <td>0.577024</td>\n",
              "      <td>0.577024</td>\n",
              "      <td>0.0</td>\n",
              "      <td>0.0</td>\n",
              "      <td>1.0</td>\n",
              "      <td>1.0</td>\n",
              "      <td>1.0</td>\n",
              "      <td>1.0</td>\n",
              "    </tr>\n",
              "    <tr>\n",
              "      <th>3</th>\n",
              "      <td>0.066667</td>\n",
              "      <td>1.0</td>\n",
              "      <td>0.399331</td>\n",
              "      <td>0.399331</td>\n",
              "      <td>0.0</td>\n",
              "      <td>1.0</td>\n",
              "      <td>1.0</td>\n",
              "      <td>1.0</td>\n",
              "      <td>0.0</td>\n",
              "      <td>0.0</td>\n",
              "    </tr>\n",
              "    <tr>\n",
              "      <th>4</th>\n",
              "      <td>0.066667</td>\n",
              "      <td>0.0</td>\n",
              "      <td>0.696919</td>\n",
              "      <td>0.696919</td>\n",
              "      <td>1.0</td>\n",
              "      <td>0.0</td>\n",
              "      <td>1.0</td>\n",
              "      <td>0.0</td>\n",
              "      <td>1.0</td>\n",
              "      <td>0.0</td>\n",
              "    </tr>\n",
              "    <tr>\n",
              "      <th>...</th>\n",
              "      <td>...</td>\n",
              "      <td>...</td>\n",
              "      <td>...</td>\n",
              "      <td>...</td>\n",
              "      <td>...</td>\n",
              "      <td>...</td>\n",
              "      <td>...</td>\n",
              "      <td>...</td>\n",
              "      <td>...</td>\n",
              "      <td>...</td>\n",
              "    </tr>\n",
              "    <tr>\n",
              "      <th>1595</th>\n",
              "      <td>0.066667</td>\n",
              "      <td>0.0</td>\n",
              "      <td>0.681872</td>\n",
              "      <td>0.681872</td>\n",
              "      <td>0.0</td>\n",
              "      <td>0.0</td>\n",
              "      <td>1.0</td>\n",
              "      <td>0.0</td>\n",
              "      <td>0.0</td>\n",
              "      <td>0.0</td>\n",
              "    </tr>\n",
              "    <tr>\n",
              "      <th>1596</th>\n",
              "      <td>0.000000</td>\n",
              "      <td>0.0</td>\n",
              "      <td>0.039647</td>\n",
              "      <td>0.039647</td>\n",
              "      <td>1.0</td>\n",
              "      <td>0.0</td>\n",
              "      <td>1.0</td>\n",
              "      <td>0.0</td>\n",
              "      <td>0.0</td>\n",
              "      <td>0.0</td>\n",
              "    </tr>\n",
              "    <tr>\n",
              "      <th>1597</th>\n",
              "      <td>0.066667</td>\n",
              "      <td>0.0</td>\n",
              "      <td>0.300931</td>\n",
              "      <td>0.300931</td>\n",
              "      <td>1.0</td>\n",
              "      <td>0.0</td>\n",
              "      <td>1.0</td>\n",
              "      <td>1.0</td>\n",
              "      <td>0.0</td>\n",
              "      <td>0.0</td>\n",
              "    </tr>\n",
              "    <tr>\n",
              "      <th>1598</th>\n",
              "      <td>0.000000</td>\n",
              "      <td>0.0</td>\n",
              "      <td>0.669214</td>\n",
              "      <td>0.669214</td>\n",
              "      <td>0.0</td>\n",
              "      <td>0.0</td>\n",
              "      <td>0.0</td>\n",
              "      <td>0.0</td>\n",
              "      <td>0.0</td>\n",
              "      <td>0.0</td>\n",
              "    </tr>\n",
              "    <tr>\n",
              "      <th>1599</th>\n",
              "      <td>0.066667</td>\n",
              "      <td>0.0</td>\n",
              "      <td>0.334607</td>\n",
              "      <td>0.334607</td>\n",
              "      <td>0.0</td>\n",
              "      <td>0.0</td>\n",
              "      <td>0.0</td>\n",
              "      <td>1.0</td>\n",
              "      <td>0.0</td>\n",
              "      <td>0.0</td>\n",
              "    </tr>\n",
              "  </tbody>\n",
              "</table>\n",
              "<p>1600 rows × 10 columns</p>\n",
              "</div>\n",
              "      <button class=\"colab-df-convert\" onclick=\"convertToInteractive('df-c9666797-1482-4e63-a7f8-f4df8837d022')\"\n",
              "              title=\"Convert this dataframe to an interactive table.\"\n",
              "              style=\"display:none;\">\n",
              "        \n",
              "  <svg xmlns=\"http://www.w3.org/2000/svg\" height=\"24px\"viewBox=\"0 0 24 24\"\n",
              "       width=\"24px\">\n",
              "    <path d=\"M0 0h24v24H0V0z\" fill=\"none\"/>\n",
              "    <path d=\"M18.56 5.44l.94 2.06.94-2.06 2.06-.94-2.06-.94-.94-2.06-.94 2.06-2.06.94zm-11 1L8.5 8.5l.94-2.06 2.06-.94-2.06-.94L8.5 2.5l-.94 2.06-2.06.94zm10 10l.94 2.06.94-2.06 2.06-.94-2.06-.94-.94-2.06-.94 2.06-2.06.94z\"/><path d=\"M17.41 7.96l-1.37-1.37c-.4-.4-.92-.59-1.43-.59-.52 0-1.04.2-1.43.59L10.3 9.45l-7.72 7.72c-.78.78-.78 2.05 0 2.83L4 21.41c.39.39.9.59 1.41.59.51 0 1.02-.2 1.41-.59l7.78-7.78 2.81-2.81c.8-.78.8-2.07 0-2.86zM5.41 20L4 18.59l7.72-7.72 1.47 1.35L5.41 20z\"/>\n",
              "  </svg>\n",
              "      </button>\n",
              "      \n",
              "  <style>\n",
              "    .colab-df-container {\n",
              "      display:flex;\n",
              "      flex-wrap:wrap;\n",
              "      gap: 12px;\n",
              "    }\n",
              "\n",
              "    .colab-df-convert {\n",
              "      background-color: #E8F0FE;\n",
              "      border: none;\n",
              "      border-radius: 50%;\n",
              "      cursor: pointer;\n",
              "      display: none;\n",
              "      fill: #1967D2;\n",
              "      height: 32px;\n",
              "      padding: 0 0 0 0;\n",
              "      width: 32px;\n",
              "    }\n",
              "\n",
              "    .colab-df-convert:hover {\n",
              "      background-color: #E2EBFA;\n",
              "      box-shadow: 0px 1px 2px rgba(60, 64, 67, 0.3), 0px 1px 3px 1px rgba(60, 64, 67, 0.15);\n",
              "      fill: #174EA6;\n",
              "    }\n",
              "\n",
              "    [theme=dark] .colab-df-convert {\n",
              "      background-color: #3B4455;\n",
              "      fill: #D2E3FC;\n",
              "    }\n",
              "\n",
              "    [theme=dark] .colab-df-convert:hover {\n",
              "      background-color: #434B5C;\n",
              "      box-shadow: 0px 1px 3px 1px rgba(0, 0, 0, 0.15);\n",
              "      filter: drop-shadow(0px 1px 2px rgba(0, 0, 0, 0.3));\n",
              "      fill: #FFFFFF;\n",
              "    }\n",
              "  </style>\n",
              "\n",
              "      <script>\n",
              "        const buttonEl =\n",
              "          document.querySelector('#df-c9666797-1482-4e63-a7f8-f4df8837d022 button.colab-df-convert');\n",
              "        buttonEl.style.display =\n",
              "          google.colab.kernel.accessAllowed ? 'block' : 'none';\n",
              "\n",
              "        async function convertToInteractive(key) {\n",
              "          const element = document.querySelector('#df-c9666797-1482-4e63-a7f8-f4df8837d022');\n",
              "          const dataTable =\n",
              "            await google.colab.kernel.invokeFunction('convertToInteractive',\n",
              "                                                     [key], {});\n",
              "          if (!dataTable) return;\n",
              "\n",
              "          const docLinkHtml = 'Like what you see? Visit the ' +\n",
              "            '<a target=\"_blank\" href=https://colab.research.google.com/notebooks/data_table.ipynb>data table notebook</a>'\n",
              "            + ' to learn more about interactive tables.';\n",
              "          element.innerHTML = '';\n",
              "          dataTable['output_type'] = 'display_data';\n",
              "          await google.colab.output.renderOutput(dataTable, element);\n",
              "          const docLink = document.createElement('div');\n",
              "          docLink.innerHTML = docLinkHtml;\n",
              "          element.appendChild(docLink);\n",
              "        }\n",
              "      </script>\n",
              "    </div>\n",
              "  </div>\n",
              "  "
            ]
          },
          "metadata": {},
          "execution_count": 11
        }
      ],
      "source": [
        "X_train_fs"
      ]
    },
    {
      "cell_type": "code",
      "execution_count": 12,
      "metadata": {
        "id": "34b6QvwaO_hh"
      },
      "outputs": [],
      "source": [
        "# k-Fold initialization\n",
        "scoring = 'neg_root_mean_squared_error'\n",
        "inner_cv = KFold(n_splits=5, shuffle=True, random_state=42)\n",
        "# outer_cv = KFold(n_splits=5, shuffle=True, random_state=42)"
      ]
    },
    {
      "cell_type": "markdown",
      "source": [
        "### Modelling Overview:\n",
        "We have used 7 types of prediction models to predict the amount spent by the customer. The models are:\n",
        "\n",
        "* Linear regression (Elastic net)\n",
        "* Regression Tree \n",
        "* K-NN regression\n",
        "* SVM regression\n",
        "* Gradient Boosing Regression \n",
        "* Random Forest Regression\n",
        "* LightGBM regression"
      ],
      "metadata": {
        "id": "U_K0RJMp4NF7"
      }
    },
    {
      "cell_type": "markdown",
      "source": [
        "### Elastic net linear regression"
      ],
      "metadata": {
        "id": "KitFBVH_RUFG"
      }
    },
    {
      "cell_type": "code",
      "execution_count": 13,
      "metadata": {
        "id": "6NsFjQ2lVJuC"
      },
      "outputs": [],
      "source": [
        "# Initialiazing Elastic Net and creating a reg_grid for its various hyperparameters\n",
        "reg = ElasticNet()\n",
        "\n",
        "reg_grid = {\n",
        "    'l1_ratio': [.1, .5, .7, .9, .95, .99, 1],\n",
        "    'alpha': [0.0125, 0.025, 0.05, .125, .25, .5, 1., 2., 4.],\n",
        "    \"max_iter\": list(range(10000, 100000))\n",
        "}"
      ]
    },
    {
      "cell_type": "markdown",
      "source": [
        "1. without feature selection"
      ],
      "metadata": {
        "id": "LvonWdcfRtOO"
      }
    },
    {
      "cell_type": "code",
      "source": [
        "reg_clf = RandomizedSearchCV(estimator = reg, param_distributions=reg_grid, scoring=scoring, n_iter=20, cv = inner_cv)\n",
        "reg_clf.fit(X_train_trans, y_train)\n",
        "y_pred = reg_clf.best_estimator_.predict(X_test_trans)"
      ],
      "metadata": {
        "id": "et3xvoG6Rd3w"
      },
      "execution_count": 14,
      "outputs": []
    },
    {
      "cell_type": "code",
      "source": [
        "print(f'R-squred: {r2_score(y_test, y_pred): .3f}')\n",
        "print(f'Root mean squared error: {np.sqrt(mean_squared_error(y_test, y_pred)):.3f}')"
      ],
      "metadata": {
        "colab": {
          "base_uri": "https://localhost:8080/"
        },
        "id": "1syXFKAISJja",
        "outputId": "eade8b75-1cd9-4739-9f12-12d82205bfce"
      },
      "execution_count": 21,
      "outputs": [
        {
          "output_type": "stream",
          "name": "stdout",
          "text": [
            "R-squred:  0.587\n",
            "Root mean squared error: 124.188\n"
          ]
        }
      ]
    },
    {
      "cell_type": "markdown",
      "source": [
        "2. with feature selection"
      ],
      "metadata": {
        "id": "UPAzY-WST3DF"
      }
    },
    {
      "cell_type": "code",
      "source": [
        "reg_clf_fs = RandomizedSearchCV(estimator = reg, param_distributions=reg_grid, scoring=scoring, n_iter=20, cv = inner_cv)\n",
        "reg_clf_fs.fit(X_train_fs, y_train)\n",
        "y_pred_fs = reg_clf_fs.best_estimator_.predict(X_test_fs)"
      ],
      "metadata": {
        "id": "u0Wxz5gHTkfk"
      },
      "execution_count": 22,
      "outputs": []
    },
    {
      "cell_type": "code",
      "source": [
        "print(f'R-squred: {r2_score(y_test, y_pred_fs): .3f}')\n",
        "print(f'Root mean squared error: {np.sqrt(mean_squared_error(y_test, y_pred_fs)):.3f}')"
      ],
      "metadata": {
        "colab": {
          "base_uri": "https://localhost:8080/"
        },
        "id": "tqg77iDqTk70",
        "outputId": "a91f8ee6-62dd-46bd-9f91-a7ac0d5db14c"
      },
      "execution_count": 24,
      "outputs": [
        {
          "output_type": "stream",
          "name": "stdout",
          "text": [
            "R-squred:  0.586\n",
            "Root mean squared error: 124.299\n"
          ]
        }
      ]
    },
    {
      "cell_type": "markdown",
      "source": [
        "### Decision Tree"
      ],
      "metadata": {
        "id": "xgzyZ-34T-nb"
      }
    },
    {
      "cell_type": "code",
      "execution_count": 47,
      "metadata": {
        "id": "yjiMDw02X2mZ"
      },
      "outputs": [],
      "source": [
        "# Initialiazing dtree and creating a dt_grid for its various hyperparameters\n",
        "dt = DecisionTreeRegressor()\n",
        "\n",
        "dt_grid ={\n",
        "    \"max_depth\" : list(range(5,10)), \n",
        "    \"max_leaf_nodes\": list(range(5,20)),\n",
        "    \"min_samples_leaf\": list(range(5,15))\n",
        "}"
      ]
    },
    {
      "cell_type": "markdown",
      "source": [
        "1. without feature selection"
      ],
      "metadata": {
        "id": "xi83vQQQUQqr"
      }
    },
    {
      "cell_type": "code",
      "source": [
        "dt_clf = RandomizedSearchCV(estimator = dt, param_distributions=dt_grid, scoring=scoring, n_iter=20, cv = inner_cv)\n",
        "dt_clf.fit(X_train_trans, y_train)\n",
        "y_pred = dt_clf.best_estimator_.predict(X_test_trans)"
      ],
      "metadata": {
        "id": "ju2i1SohUCnM"
      },
      "execution_count": 48,
      "outputs": []
    },
    {
      "cell_type": "code",
      "source": [
        "print(f'R-squred: {r2_score(y_test, y_pred): .3f}')\n",
        "print(f'Root mean squared error: {np.sqrt(mean_squared_error(y_test, y_pred)):.3f}')"
      ],
      "metadata": {
        "colab": {
          "base_uri": "https://localhost:8080/"
        },
        "id": "ujDbYvoLUDEx",
        "outputId": "44e25a3f-fe72-4c39-e6c8-28d75dff5151"
      },
      "execution_count": 49,
      "outputs": [
        {
          "output_type": "stream",
          "name": "stdout",
          "text": [
            "R-squred:  0.638\n",
            "Root mean squared error: 116.219\n"
          ]
        }
      ]
    },
    {
      "cell_type": "markdown",
      "source": [
        "2. with feature selection"
      ],
      "metadata": {
        "id": "HD-OnwugUVSB"
      }
    },
    {
      "cell_type": "code",
      "source": [
        "dt_clf_fs = RandomizedSearchCV(estimator = dt, param_distributions=dt_grid, scoring=scoring, n_iter=20, cv = inner_cv)\n",
        "dt_clf_fs.fit(X_train_fs, y_train)\n",
        "y_pred_fs = dt_clf_fs.best_estimator_.predict(X_test_fs)"
      ],
      "metadata": {
        "id": "lOuuiwiHUDLW"
      },
      "execution_count": 51,
      "outputs": []
    },
    {
      "cell_type": "code",
      "source": [
        "print(f'R-squred: {r2_score(y_test, y_pred_fs): .3f}')\n",
        "print(f'Root mean squared error: {np.sqrt(mean_squared_error(y_test, y_pred_fs)):.3f}')"
      ],
      "metadata": {
        "colab": {
          "base_uri": "https://localhost:8080/"
        },
        "id": "fp3C4o3iUDRa",
        "outputId": "f4f702a3-d926-4b1c-f957-caeb67d80854"
      },
      "execution_count": 53,
      "outputs": [
        {
          "output_type": "stream",
          "name": "stdout",
          "text": [
            "R-squred:  0.600\n",
            "Root mean squared error: 122.121\n"
          ]
        }
      ]
    },
    {
      "cell_type": "markdown",
      "source": [
        "### KNN"
      ],
      "metadata": {
        "id": "RHZZlrHCUniQ"
      }
    },
    {
      "cell_type": "code",
      "execution_count": 31,
      "metadata": {
        "id": "S5yTcaNkkTli"
      },
      "outputs": [],
      "source": [
        "# Initialiazing knn and creating a knn_grid for its various hyperparameters\n",
        "knn = KNeighborsRegressor()\n",
        "\n",
        "knn_grid ={\n",
        "    \"weights\" : [\"uniform\", \"distance\"], \n",
        "    \"n_neighbors\": list(range(1,20))\n",
        "}"
      ]
    },
    {
      "cell_type": "markdown",
      "source": [
        "1. without feature selection"
      ],
      "metadata": {
        "id": "Qv2-HCimUrTU"
      }
    },
    {
      "cell_type": "code",
      "source": [
        "knn_clf = RandomizedSearchCV(estimator = knn, param_distributions=knn_grid, scoring=scoring, n_iter=20, cv = inner_cv)\n",
        "knn_clf.fit(X_train_trans, y_train)\n",
        "y_pred = knn_clf.best_estimator_.predict(X_test_trans)"
      ],
      "metadata": {
        "id": "DhiCXAhcUp47"
      },
      "execution_count": 32,
      "outputs": []
    },
    {
      "cell_type": "code",
      "source": [
        "print(f'R-squred: {r2_score(y_test, y_pred): .3f}')\n",
        "print(f'Root mean squared error: {np.sqrt(mean_squared_error(y_test, y_pred)):.3f}')"
      ],
      "metadata": {
        "colab": {
          "base_uri": "https://localhost:8080/"
        },
        "id": "cEzvidrdUqW6",
        "outputId": "35ce2fc0-d6e3-4d24-e0db-423014d2fce1"
      },
      "execution_count": 38,
      "outputs": [
        {
          "output_type": "stream",
          "name": "stdout",
          "text": [
            "R-squred:  0.311\n",
            "Root mean squared error: 160.409\n"
          ]
        }
      ]
    },
    {
      "cell_type": "code",
      "source": [
        "knn_clf_fs = RandomizedSearchCV(estimator = knn, param_distributions=knn_grid, scoring=scoring, n_iter=20, cv = inner_cv)\n",
        "knn_clf_fs.fit(X_train_fs, y_train)\n",
        "y_pred_fs = knn_clf_fs.best_estimator_.predict(X_test_fs)"
      ],
      "metadata": {
        "id": "peyYOyOqUqbh"
      },
      "execution_count": 54,
      "outputs": []
    },
    {
      "cell_type": "code",
      "source": [
        "print(f'R-squred: {r2_score(y_test, y_pred_fs): .3f}')\n",
        "print(f'Root mean squared error: {np.sqrt(mean_squared_error(y_test, y_pred_fs)):.3f}')"
      ],
      "metadata": {
        "colab": {
          "base_uri": "https://localhost:8080/"
        },
        "id": "srkFvnWyUqgX",
        "outputId": "797f3c92-72da-4e7c-80d4-23f30e32987c"
      },
      "execution_count": 55,
      "outputs": [
        {
          "output_type": "stream",
          "name": "stdout",
          "text": [
            "R-squred:  0.329\n",
            "Root mean squared error: 158.267\n"
          ]
        }
      ]
    },
    {
      "cell_type": "markdown",
      "source": [
        "### SVR"
      ],
      "metadata": {
        "id": "c9793_JzVXwe"
      }
    },
    {
      "cell_type": "code",
      "execution_count": 67,
      "metadata": {
        "id": "cNjtpjV84jN8"
      },
      "outputs": [],
      "source": [
        "# Building the Support Vector Regression\n",
        "svr = SVR()\n",
        "\n",
        "# Parameter grid\n",
        "svr_grid = [{'kernel': ['rbf'], 'gamma': [1e-3, 1e-4],\n",
        "               'C': [0.001, 0.01, 0.1, 1, 10, 100, 1000]},\n",
        "{'kernel': ['linear'], 'C': [0.001, 0.01, 0.1, 1, 10, 100, 1000]},\n",
        "{'kernel': ['poly'], 'degree': [2,3,4,5,6], 'C': [0.001, 0.01, 0.1, 1, 10, 100, 1000],\n",
        " 'gamma': [1e-3, 1e-4]}]"
      ]
    },
    {
      "cell_type": "markdown",
      "source": [
        "1. without feature selection"
      ],
      "metadata": {
        "id": "1F0Tm9T8Va0A"
      }
    },
    {
      "cell_type": "code",
      "source": [
        "svr_clf = RandomizedSearchCV(estimator = svr, param_distributions=svr_grid, scoring=scoring, n_iter=20, cv = inner_cv)\n",
        "svr_clf.fit(X_train_trans, y_train)\n",
        "y_pred = svr_clf.best_estimator_.predict(X_test_trans)"
      ],
      "metadata": {
        "id": "gTB7pwmuVZ5s"
      },
      "execution_count": 68,
      "outputs": []
    },
    {
      "cell_type": "code",
      "source": [
        "print(f'R-squred: {r2_score(y_test, y_pred): .3f}')\n",
        "print(f'Root mean squared error: {np.sqrt(mean_squared_error(y_test, y_pred)):.3f}')"
      ],
      "metadata": {
        "colab": {
          "base_uri": "https://localhost:8080/"
        },
        "id": "LioI1pWcVZ-j",
        "outputId": "a926d14a-179e-4a05-a457-1cd48f312b9d"
      },
      "execution_count": 69,
      "outputs": [
        {
          "output_type": "stream",
          "name": "stdout",
          "text": [
            "R-squred:  0.267\n",
            "Root mean squared error: 165.446\n"
          ]
        }
      ]
    },
    {
      "cell_type": "markdown",
      "source": [
        "2. with feature selection"
      ],
      "metadata": {
        "id": "1VRwZppCXFyQ"
      }
    },
    {
      "cell_type": "code",
      "source": [
        "svr_clf_fs = RandomizedSearchCV(estimator = svr, param_distributions=svr_grid, scoring=scoring, n_iter=20, cv = inner_cv)\n",
        "svr_clf_fs.fit(X_train_fs, y_train)\n",
        "y_pred_fs = svr_clf_fs.best_estimator_.predict(X_test_fs)"
      ],
      "metadata": {
        "id": "vN2roMfgVaEE"
      },
      "execution_count": 89,
      "outputs": []
    },
    {
      "cell_type": "code",
      "source": [
        "print(f'R-squred: {r2_score(y_test, y_pred_fs): .3f}')\n",
        "print(f'Root mean squared error: {np.sqrt(mean_squared_error(y_test, y_pred_fs)):.3f}')"
      ],
      "metadata": {
        "colab": {
          "base_uri": "https://localhost:8080/"
        },
        "id": "6FqWDygLVaJg",
        "outputId": "03926225-f226-4054-bfe7-e2da7a16f1a0"
      },
      "execution_count": 90,
      "outputs": [
        {
          "output_type": "stream",
          "name": "stdout",
          "text": [
            "R-squred:  0.090\n",
            "Root mean squared error: 184.286\n"
          ]
        }
      ]
    },
    {
      "cell_type": "markdown",
      "source": [
        "### Gradient Boost"
      ],
      "metadata": {
        "id": "CTpJDzJSWbCm"
      }
    },
    {
      "cell_type": "code",
      "source": [
        "# Building the GradientBoostingRegressor()\n",
        "gbr = GradientBoostingRegressor()\n",
        "\n",
        "# Parameter grid\n",
        "gbr_grid = {'n_estimators' : [500],\n",
        "                  'learning_rate': reciprocal(0.01, 0.1),\n",
        "                  'max_depth': list(range(4,15)),\n",
        "                  'min_samples_leaf': list(range(10,200)),\n",
        "                  'max_features': [1.0, 0.3, 0.1]}"
      ],
      "metadata": {
        "id": "Ef_9c165CACT"
      },
      "execution_count": 58,
      "outputs": []
    },
    {
      "cell_type": "markdown",
      "source": [
        "1. without feature selection"
      ],
      "metadata": {
        "id": "J1nBooT9YeCM"
      }
    },
    {
      "cell_type": "code",
      "source": [
        "gbr_clf = RandomizedSearchCV(estimator = gbr, param_distributions=gbr_grid, scoring=scoring, n_iter=20, cv = inner_cv)\n",
        "gbr_clf.fit(X_train_trans, y_train)\n",
        "y_pred = gbr_clf.best_estimator_.predict(X_test_trans)"
      ],
      "metadata": {
        "id": "y0X_siRcXQ2m"
      },
      "execution_count": 72,
      "outputs": []
    },
    {
      "cell_type": "code",
      "source": [
        "print(f'R-squred: {r2_score(y_test, y_pred): .3f}')\n",
        "print(f'Root mean squared error: {np.sqrt(mean_squared_error(y_test, y_pred)):.3f}')"
      ],
      "metadata": {
        "colab": {
          "base_uri": "https://localhost:8080/"
        },
        "outputId": "7a4ab661-572e-4c9c-9504-0772231d9d2b",
        "id": "NK3qfC54XQ2p"
      },
      "execution_count": 73,
      "outputs": [
        {
          "output_type": "stream",
          "name": "stdout",
          "text": [
            "R-squred:  0.657\n",
            "Root mean squared error: 113.209\n"
          ]
        }
      ]
    },
    {
      "cell_type": "markdown",
      "source": [
        "2. with feature selection"
      ],
      "metadata": {
        "id": "0WhUMx2oYgWI"
      }
    },
    {
      "cell_type": "code",
      "source": [
        "gbr_clf_fs = RandomizedSearchCV(estimator = gbr, param_distributions=gbr_grid, scoring=scoring, n_iter=20, cv = inner_cv)\n",
        "gbr_clf_fs.fit(X_train_fs, y_train)\n",
        "y_pred_fs = gbr_clf_fs.best_estimator_.predict(X_test_fs)"
      ],
      "metadata": {
        "id": "5EhK4HlmXQ2q"
      },
      "execution_count": 74,
      "outputs": []
    },
    {
      "cell_type": "code",
      "source": [
        "print(f'R-squred: {r2_score(y_test, y_pred_fs): .3f}')\n",
        "print(f'Root mean squared error: {np.sqrt(mean_squared_error(y_test, y_pred_fs)):.3f}')"
      ],
      "metadata": {
        "colab": {
          "base_uri": "https://localhost:8080/"
        },
        "outputId": "6efe9cd9-c101-40db-9c43-646b351406ad",
        "id": "b19bCb8pXQ2r"
      },
      "execution_count": 75,
      "outputs": [
        {
          "output_type": "stream",
          "name": "stdout",
          "text": [
            "R-squred:  0.583\n",
            "Root mean squared error: 124.790\n"
          ]
        }
      ]
    },
    {
      "cell_type": "markdown",
      "source": [
        "### Random Forest"
      ],
      "metadata": {
        "id": "d_0e4qeqXght"
      }
    },
    {
      "cell_type": "code",
      "source": [
        "# Building the RandomForestRegressor()\n",
        "rfr = RandomForestRegressor()\n",
        "\n",
        "# Parameter grid\n",
        "rfr_grid = {'max_depth': list(range(1,20)),\n",
        "            'criterion' : [\"absolute_error\"],\n",
        "            'max_features': ['auto'],\n",
        "            \"bootstrap\": [True, False],\n",
        "            'max_depth': list(range(5, 15))\n",
        "            }"
      ],
      "metadata": {
        "id": "gYGmouRHCFZg"
      },
      "execution_count": 76,
      "outputs": []
    },
    {
      "cell_type": "markdown",
      "source": [
        "1. without feature selection"
      ],
      "metadata": {
        "id": "LOGD5ShKXwZ2"
      }
    },
    {
      "cell_type": "code",
      "source": [
        "rfr_clf = RandomizedSearchCV(estimator = rfr, param_distributions=rfr_grid, scoring=scoring, n_iter=20, cv = inner_cv)\n",
        "rfr_clf.fit(X_train_trans, y_train)\n",
        "y_pred = rfr_clf.best_estimator_.predict(X_test_trans)"
      ],
      "metadata": {
        "id": "nOgHLcwzXlLp"
      },
      "execution_count": 77,
      "outputs": []
    },
    {
      "cell_type": "code",
      "source": [
        "print(f'R-squred: {r2_score(y_test, y_pred): .3f}')\n",
        "print(f'Root mean squared error: {np.sqrt(mean_squared_error(y_test, y_pred)):.3f}')"
      ],
      "metadata": {
        "colab": {
          "base_uri": "https://localhost:8080/"
        },
        "outputId": "2dd51bd8-4523-44a9-faee-723210d18b51",
        "id": "7Hxb8DoWXlLr"
      },
      "execution_count": 78,
      "outputs": [
        {
          "output_type": "stream",
          "name": "stdout",
          "text": [
            "R-squred:  0.543\n",
            "Root mean squared error: 130.581\n"
          ]
        }
      ]
    },
    {
      "cell_type": "markdown",
      "source": [
        "2. with feature selection"
      ],
      "metadata": {
        "id": "qYohPcz5XzVn"
      }
    },
    {
      "cell_type": "code",
      "source": [
        "rfr_clf_fs = RandomizedSearchCV(estimator = rfr, param_distributions=rfr_grid, scoring=scoring, n_iter=20, cv = inner_cv)\n",
        "rfr_clf_fs.fit(X_train_fs, y_train)\n",
        "y_pred_fs = rfr_clf_fs.best_estimator_.predict(X_test_fs)"
      ],
      "metadata": {
        "id": "k5HLxcsbXlLs"
      },
      "execution_count": 79,
      "outputs": []
    },
    {
      "cell_type": "code",
      "source": [
        "print(f'R-squred: {r2_score(y_test, y_pred_fs): .3f}')\n",
        "print(f'Root mean squared error: {np.sqrt(mean_squared_error(y_test, y_pred_fs)):.3f}')"
      ],
      "metadata": {
        "colab": {
          "base_uri": "https://localhost:8080/"
        },
        "outputId": "2a3430c5-889f-448e-fc21-441749a83592",
        "id": "-UklNE2-XlLt"
      },
      "execution_count": 80,
      "outputs": [
        {
          "output_type": "stream",
          "name": "stdout",
          "text": [
            "R-squred:  0.597\n",
            "Root mean squared error: 122.709\n"
          ]
        }
      ]
    },
    {
      "cell_type": "markdown",
      "source": [
        "### LightGBM"
      ],
      "metadata": {
        "id": "7TeJI-3jX1wD"
      }
    },
    {
      "cell_type": "code",
      "execution_count": 81,
      "metadata": {
        "id": "Dvzq_LnX6zTW"
      },
      "outputs": [],
      "source": [
        "gbm = LGBMRegressor()\n",
        "\n",
        "gbm_grid = {\n",
        "    'num_iterations': list(range(100,1000)),\n",
        "    'learning_rate': reciprocal(3e-3, 3e-1),\n",
        "    'max_depth': list(range(5,30)) ,\n",
        "    'n_estimators': list(range(50,300,10)),\n",
        "    'num_leaves': list(range(50,400,5))\n",
        "}"
      ]
    },
    {
      "cell_type": "markdown",
      "source": [
        "1. without feature selection"
      ],
      "metadata": {
        "id": "vxTYxAWPYmx0"
      }
    },
    {
      "cell_type": "code",
      "source": [
        "gbm_clf = RandomizedSearchCV(estimator = gbm, param_distributions=gbm_grid, scoring=scoring, n_iter=20, cv = inner_cv)\n",
        "gbm_clf.fit(X_train_trans, y_train)\n",
        "y_pred = gbm_clf.best_estimator_.predict(X_test_trans)"
      ],
      "metadata": {
        "id": "1BCvPSPtX6f4"
      },
      "execution_count": 82,
      "outputs": []
    },
    {
      "cell_type": "code",
      "source": [
        "print(f'R-squred: {r2_score(y_test, y_pred): .3f}')\n",
        "print(f'Root mean squared error: {np.sqrt(mean_squared_error(y_test, y_pred)):.3f}')"
      ],
      "metadata": {
        "colab": {
          "base_uri": "https://localhost:8080/"
        },
        "outputId": "75814542-b18b-4535-9d96-c7093e29e06f",
        "id": "EDNJl1znX6f6"
      },
      "execution_count": 83,
      "outputs": [
        {
          "output_type": "stream",
          "name": "stdout",
          "text": [
            "R-squred:  0.670\n",
            "Root mean squared error: 111.015\n"
          ]
        }
      ]
    },
    {
      "cell_type": "markdown",
      "source": [
        "2. with feature selection"
      ],
      "metadata": {
        "id": "DrSxWI3qYpTD"
      }
    },
    {
      "cell_type": "code",
      "source": [
        "gbm_clf_fs = RandomizedSearchCV(estimator = gbm, param_distributions=gbm_grid, scoring=scoring, n_iter=20, cv = inner_cv)\n",
        "gbm_clf_fs.fit(X_train_fs, y_train)\n",
        "y_pred_fs = gbm_clf_fs.best_estimator_.predict(X_test_fs)"
      ],
      "metadata": {
        "id": "SgZSNMISX6f7"
      },
      "execution_count": 84,
      "outputs": []
    },
    {
      "cell_type": "code",
      "source": [
        "print(f'R-squred: {r2_score(y_test, y_pred_fs): .3f}')\n",
        "print(f'Root mean squared error: {np.sqrt(mean_squared_error(y_test, y_pred_fs)):.3f}')"
      ],
      "metadata": {
        "colab": {
          "base_uri": "https://localhost:8080/"
        },
        "outputId": "abb44e0a-c2d3-4930-90ee-fe0a47b0a6e0",
        "id": "N4nisJZeX6f8"
      },
      "execution_count": 85,
      "outputs": [
        {
          "output_type": "stream",
          "name": "stdout",
          "text": [
            "R-squred:  0.627\n",
            "Root mean squared error: 118.052\n"
          ]
        }
      ]
    }
  ],
  "metadata": {
    "colab": {
      "provenance": [],
      "authorship_tag": "ABX9TyPxgyg7q6O4vRZAfbIsD5yf",
      "include_colab_link": true
    },
    "kernelspec": {
      "display_name": "Python 3",
      "name": "python3"
    },
    "language_info": {
      "name": "python"
    }
  },
  "nbformat": 4,
  "nbformat_minor": 0
}